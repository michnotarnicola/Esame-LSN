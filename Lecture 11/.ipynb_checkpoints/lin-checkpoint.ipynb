{
 "cells": [
  {
   "cell_type": "markdown",
   "metadata": {},
   "source": [
    "# <span style=\"color:blue\"> Esercitazione 11 </span>\n",
    "#### NOTA PER IL LETTORE:\n",
    "Per questi ultimi due notebooks si è scelto di programmare direttamente in questo ambiente, per cui la struttura del testo è differente rispetto agli altri papers. Resta presente una breve sintesi della consegna, ma la discussione del lavoro viene svolta simultanealmente all'analisi dati.\n",
    "\n",
    "## <span style=\"color:blue\"> Esercizio 1 \n",
    "Si tratta soltanto di fare pratica con la rete proposta, modificandone i parametri per comprendere come varia l'apprendimento. La conclusione è quella che il fattore cruciale per il miglioramento delle prestazioni della rete è il numero di dati di training. Più grande è tale dataset e migliore è l'apprendimento della rete. Ma del resto è alquanto scontato."
   ]
  },
  {
   "cell_type": "markdown",
   "metadata": {},
   "source": [
    "## <span style=\"color:blue\"> Esercizio 2\n",
    "### Scopo dell'esercizio\n",
    "Si chiede di implementare una rete feed forward per approssimare il polinomio di terzo grado $$f(x)=3x^3-2x^2-3x+4,$$ esplorando varie architetture e confrontandole tra loro.\n",
    "    \n",
    "### Discussione del lavoro\n",
    "Per la costruzione della rete, si è proceduto per complessità crescente. La rete proposta nella traccia dell'esercizio contiene un singolo neurone ed è in grado di approssimare una funzione lineare. Si è cercato di complicarne la struttura per cercare di approssimare una parabola $g(x)=x^2$ e , dopo di che, una cubica $h(x)=x^3$. Per la parabola sono sufficienti 5 neuroni, ossia una rete $1 \\rightarrow 5 \\rightarrow 1$, per la cubica 10, ossia una rete $1 \\rightarrow 10 \\rightarrow 1$. Questi dati hanno fornito un ansatz per un primo tentativo di architettura che approssimi il polinomio richiesto $f(x)$."
   ]
  },
  {
   "cell_type": "markdown",
   "metadata": {},
   "source": [
    "### <span style=\"color:red\"> Primo tentativo: un solo hidden layer\n",
    "\n",
    "Tenendo conto che il polinomio di terzo grado in esame contiene potenze di tutti gli ordini e considerando anche l'aggiunta di una noise gaussiana nel dataset di input, il primo tentativo di rete è stato una rete con un singolo layer nascosto del tipo $$\\color{red}{1 \\rightarrow 20 \\rightarrow 1}.$$\n",
    "Su questa architettura si è iniziato a lavorare, fissando il numero di dati di input a $100000$, il numero di dati di test a $10000$ e la noise gaussiana di varianza $\\sigma=0.01$. Il dataset è stato diviso in $32$ minibatches e il numero di epoche per l'apprendimento è stato pari a $40$. Inoltre, visto che l'output deve essere un generico numero realeA questo punto si sono esplorate diverse possibilità di ottimizzatori, funzioni di attivazione e loss function per cercare di capire quale fosse la migliore combinazione possibile. <p>\n",
    "**Prima configurazione. FUNZIONI DI ATTIVAZIONE: ReLu->Lin\n",
    "OTTIMIZZATORE: SGD\n",
    "LOSS: MSE**"
   ]
  },
  {
   "cell_type": "code",
   "execution_count": 1,
   "metadata": {},
   "outputs": [],
   "source": [
    "# target parameters of f(x) = a*x**3 + b*x**2 + c*x+ d\n",
    "a=3 #a=3\n",
    "b=-2 #b=-2\n",
    "c=-3 #c=-3\n",
    "d=4 #d=4"
   ]
  },
  {
   "cell_type": "code",
   "execution_count": 2,
   "metadata": {},
   "outputs": [],
   "source": [
    "import numpy as np\n",
    "\n",
    "# generate training inputs\n",
    "np.random.seed(0)\n",
    "x_train = np.random.uniform(-1, 1, 100000)\n",
    "x_valid = np.random.uniform(-1, 1, 10000)\n",
    "x_valid.sort()\n",
    "y_target = a * x_valid**3 + b* x_valid**2 + c* x_valid +d  # ideal (target) function\n",
    "\n",
    "sigma = 0.01 # noise standard deviation\n",
    "y_train = np.random.normal(a*x_train**3+b*x_train**2+c*x_train+d, sigma) # actual measures from which we want to guess regression parameters\n",
    "y_valid = np.random.normal(a*x_valid**3+b*x_valid**2+c*x_valid+d, sigma)"
   ]
  },
  {
   "cell_type": "code",
   "execution_count": 3,
   "metadata": {},
   "outputs": [
    {
     "data": {
      "image/png": "[encoded data removed]",
      "text/plain": [
       "<Figure size 432x288 with 1 Axes>"
      ]
     },
     "metadata": {
      "needs_background": "light"
     },
     "output_type": "display_data"
    }
   ],
   "source": [
    "# plot training and target dataset\n",
    "import matplotlib.pyplot as plt\n",
    "plt.plot(x_valid, y_target)\n",
    "plt.scatter(x_valid, y_valid, color='r')\n",
    "plt.grid(True); plt.show()"
   ]
  },
  {
   "cell_type": "code",
   "execution_count": 4,
   "metadata": {},
   "outputs": [
    {
     "name": "stdout",
     "output_type": "stream",
     "text": [
      "Model: \"sequential\"\n",
      "_________________________________________________________________\n",
      "Layer (type)                 Output Shape              Param #   \n",
      "=================================================================\n",
      "dense (Dense)                (None, 20)                40        \n",
      "_________________________________________________________________\n",
      "dense_1 (Dense)              (None, 1)                 21        \n",
      "=================================================================\n",
      "Total params: 61\n",
      "Trainable params: 61\n",
      "Non-trainable params: 0\n",
      "_________________________________________________________________\n"
     ]
    }
   ],
   "source": [
    "# compose the NN model\n",
    "import tensorflow as tf\n",
    "from tensorflow import keras\n",
    "\n",
    "from tensorflow.keras.models import Sequential\n",
    "from tensorflow.keras.layers import Dense, Activation\n",
    "from tensorflow.keras import backend as K\n",
    "from tensorflow.keras.utils import get_custom_objects\n",
    "\n",
    "model = tf.keras.Sequential()\n",
    "model.add(Dense(20, input_shape=(1,), activation='relu'))\n",
    "model.add(Dense(1))\n",
    "\n",
    "# compile the model choosing optimizer, loss and metrics objects\n",
    "model.compile(optimizer='sgd', loss='mae', metrics=['mae'])\n",
    "# get a summary of our composed model\n",
    "model.summary()"
   ]
  },
  {
   "cell_type": "code",
   "execution_count": null,
   "metadata": {},
   "outputs": [
    {
     "name": "stdout",
     "output_type": "stream",
     "text": [
      "Epoch 1/40\n",
      "3125/3125 [==============================] - 4s 1ms/step - loss: 0.3251 - mae: 0.3251 - val_loss: 0.0705 - val_mae: 0.0705\n",
      "Epoch 2/40\n",
      "3125/3125 [==============================] - 3s 1ms/step - loss: 0.0531 - mae: 0.0531 - val_loss: 0.0520 - val_mae: 0.0520\n",
      "Epoch 3/40\n",
      "3125/3125 [==============================] - 3s 1ms/step - loss: 0.0425 - mae: 0.0425 - val_loss: 0.0506 - val_mae: 0.0506\n",
      "Epoch 4/40\n",
      "3125/3125 [==============================] - 3s 1ms/step - loss: 0.0407 - mae: 0.0407 - val_loss: 0.0422 - val_mae: 0.0422\n",
      "Epoch 5/40\n",
      "3125/3125 [==============================] - 3s 1ms/step - loss: 0.0392 - mae: 0.0392 - val_loss: 0.0466 - val_mae: 0.0466\n",
      "Epoch 6/40\n",
      "3125/3125 [==============================] - 3s 1ms/step - loss: 0.0380 - mae: 0.0380 - val_loss: 0.0364 - val_mae: 0.0364\n",
      "Epoch 7/40\n",
      "3125/3125 [==============================] - 3s 1ms/step - loss: 0.0371 - mae: 0.0371 - val_loss: 0.0349 - val_mae: 0.0349\n",
      "Epoch 8/40\n",
      "3125/3125 [==============================] - 3s 1ms/step - loss: 0.0364 - mae: 0.0364 - val_loss: 0.0310 - val_mae: 0.0310\n",
      "Epoch 9/40\n",
      "3125/3125 [==============================] - 4s 1ms/step - loss: 0.0355 - mae: 0.0355 - val_loss: 0.0268 - val_mae: 0.0268\n",
      "Epoch 10/40\n",
      "3125/3125 [==============================] - 3s 1ms/step - loss: 0.0352 - mae: 0.0352 - val_loss: 0.0353 - val_mae: 0.0353\n",
      "Epoch 11/40\n",
      "3125/3125 [==============================] - 3s 1ms/step - loss: 0.0344 - mae: 0.0344 - val_loss: 0.0365 - val_mae: 0.0365\n",
      "Epoch 12/40\n",
      "3125/3125 [==============================] - 3s 1ms/step - loss: 0.0339 - mae: 0.0339 - val_loss: 0.0194 - val_mae: 0.0194\n",
      "Epoch 13/40\n",
      "3125/3125 [==============================] - 3s 1ms/step - loss: 0.0337 - mae: 0.0337 - val_loss: 0.0282 - val_mae: 0.0282\n",
      "Epoch 14/40\n",
      "3125/3125 [==============================] - 3s 1ms/step - loss: 0.0334 - mae: 0.0334 - val_loss: 0.0315 - val_mae: 0.0315\n",
      "Epoch 15/40\n",
      "3125/3125 [==============================] - 3s 1ms/step - loss: 0.0327 - mae: 0.0327 - val_loss: 0.0277 - val_mae: 0.0277\n",
      "Epoch 16/40\n",
      "3125/3125 [==============================] - 3s 1ms/step - loss: 0.0328 - mae: 0.0328 - val_loss: 0.0411 - val_mae: 0.0411\n",
      "Epoch 17/40\n",
      "3125/3125 [==============================] - 3s 1ms/step - loss: 0.0326 - mae: 0.0326 - val_loss: 0.0267 - val_mae: 0.0267\n",
      "Epoch 18/40\n",
      "3125/3125 [==============================] - 3s 1ms/step - loss: 0.0323 - mae: 0.0323 - val_loss: 0.0445 - val_mae: 0.0445\n",
      "Epoch 19/40\n",
      "3125/3125 [==============================] - 3s 1ms/step - loss: 0.0318 - mae: 0.0318 - val_loss: 0.0244 - val_mae: 0.0244\n",
      "Epoch 20/40\n",
      "3125/3125 [==============================] - 3s 1ms/step - loss: 0.0316 - mae: 0.0316 - val_loss: 0.0468 - val_mae: 0.0468\n",
      "Epoch 21/40\n",
      "3125/3125 [==============================] - 3s 1ms/step - loss: 0.0316 - mae: 0.0316 - val_loss: 0.0257 - val_mae: 0.0257\n",
      "Epoch 22/40\n",
      "3077/3125 [============================>.] - ETA: 0s - loss: 0.0315 - mae: 0.0315"
     ]
    }
   ],
   "source": [
    "# fit the model using training dataset\n",
    "# report training progress against validation data\n",
    "history = model.fit(x=x_train, y=y_train, \n",
    "          batch_size=32, epochs=40,\n",
    "          shuffle=True, # a good idea is to shuffle input before at each epoch\n",
    "          validation_data=(x_valid, y_valid))"
   ]
  },
  {
   "cell_type": "code",
   "execution_count": 173,
   "metadata": {},
   "outputs": [
    {
     "data": {
      "text/plain": [
       "[array([[-0.47807673, -1.4441903 ,  0.18021521,  0.35649726,  0.9430841 ,\n",
       "         -1.1810601 , -0.794533  , -1.3718857 ,  1.7159264 ,  0.9353245 ]],\n",
       "       dtype=float32),\n",
       " array([ 0.45994762, -1.3869973 ,  0.18638347,  0.36657903, -0.21170759,\n",
       "         0.40628174, -0.74824977, -0.20450728, -0.21328126,  0.18843953],\n",
       "       dtype=float32),\n",
       " array([[ 0.58246386, -0.14446066,  0.05655819,  0.48682606, -0.04088413],\n",
       "        [ 1.435159  , -0.2143118 , -0.9772408 , -1.16544   , -0.12366868],\n",
       "        [-0.3485109 ,  0.562052  ,  0.16844451, -0.4428057 ,  0.44180512],\n",
       "        [-0.19044165, -0.6677726 ,  0.2386132 , -0.10600247,  0.6532208 ],\n",
       "        [-0.41384485,  0.41639194,  0.8415349 , -0.70612705, -0.64178234],\n",
       "        [ 0.4687394 , -0.41148773,  0.03203486, -0.86164844,  0.6747098 ],\n",
       "        [ 0.506359  , -0.5876676 , -0.74455285, -0.92263293, -0.3733859 ],\n",
       "        [ 0.4305717 , -0.17545004,  0.15967171, -0.99252653, -0.46330467],\n",
       "        [-0.01623456, -0.3009966 , -0.302314  ,  0.2655648 , -1.3079652 ],\n",
       "        [-0.24393883,  0.33231163,  1.1313834 , -0.13043587, -0.40927017]],\n",
       "       dtype=float32),\n",
       " array([-0.6300766 , -0.26464373,  0.5856834 ,  0.4380466 ,  0.59814733],\n",
       "       dtype=float32),\n",
       " array([[-1.6393055 ],\n",
       "        [-0.14616515],\n",
       "        [ 1.6034062 ],\n",
       "        [-1.6546134 ],\n",
       "        [ 1.1225796 ]], dtype=float32),\n",
       " array([0.4221054], dtype=float32)]"
      ]
     },
     "execution_count": 173,
     "metadata": {},
     "output_type": "execute_result"
    }
   ],
   "source": [
    "# return weights\n",
    "model.get_weights()"
   ]
  },
  {
   "cell_type": "code",
   "execution_count": 174,
   "metadata": {
    "scrolled": true
   },
   "outputs": [
    {
     "name": "stdout",
     "output_type": "stream",
     "text": [
      "313/313 [==============================] - 0s 1ms/step - loss: 1.7847e-04 - mse: 1.7847e-04\n",
      "\n",
      "Test loss: 0.0001784658379619941\n",
      "Test accuracy: 0.0001784658379619941\n"
     ]
    }
   ],
   "source": [
    "# evaluate model\n",
    "score = model.evaluate(x_valid, y_valid, batch_size=32, verbose=1)\n",
    "\n",
    "# print performance\n",
    "print()\n",
    "print('Test loss:', score[0])\n",
    "print('Test accuracy:', score[1])"
   ]
  },
  {
   "cell_type": "code",
   "execution_count": 175,
   "metadata": {},
   "outputs": [
    {
     "name": "stdout",
     "output_type": "stream",
     "text": [
      "313/313 [==============================] - 0s 1ms/step - loss: 7.5057e-05 - mse: 7.5057e-05\n",
      "\n",
      "Test loss: 7.50573817640543e-05\n",
      "Test accuracy: 7.50573817640543e-05\n"
     ]
    }
   ],
   "source": [
    "# evaluate model with the exact curve\n",
    "score = model.evaluate(x_valid, y_target, batch_size=32, verbose=1)\n",
    "\n",
    "# print performance\n",
    "print()\n",
    "print('Test loss:', score[0])\n",
    "print('Test accuracy:', score[1])"
   ]
  },
  {
   "cell_type": "code",
   "execution_count": 176,
   "metadata": {},
   "outputs": [
    {
     "data": {
      "image/png": "[encoded data removed]",
      "text/plain": [
       "<Figure size 432x288 with 1 Axes>"
      ]
     },
     "metadata": {
      "needs_background": "light"
     },
     "output_type": "display_data"
    }
   ],
   "source": [
    "# look into training history\n",
    "# Plot training & validation loss values\n",
    "plt.plot(history.history['loss'])\n",
    "plt.plot(history.history['val_loss'])\n",
    "plt.ylabel('Loss')\n",
    "plt.xlabel('Epoch')\n",
    "plt.legend(['Train', 'Test'], loc='best')\n",
    "plt.grid()\n",
    "plt.title('Model loss   Rete 1-10-5-1 \\n Activation func: ELU, Optimizer: SGD, Loss func: MSE')\n",
    "plt.show()"
   ]
  },
  {
   "cell_type": "code",
   "execution_count": 180,
   "metadata": {},
   "outputs": [
    {
     "data": {
      "image/png": "[encoded data removed]",
      "text/plain": [
       "<Figure size 432x288 with 1 Axes>"
      ]
     },
     "metadata": {
      "needs_background": "light"
     },
     "output_type": "display_data"
    }
   ],
   "source": [
    "x_predicted = np.random.uniform(-1, 1, 100)\n",
    "y_predicted = model.predict(x_predicted)\n",
    "plt.scatter(x_predicted, y_predicted,color='r',marker='.')\n",
    "\n",
    "x_valid = np.random.uniform(-1, 1, 10000)\n",
    "x_valid.sort()\n",
    "y_target = a * x_valid**3 + b* x_valid**2 + c* x_valid +d  # ideal (target) function\n",
    "plt.plot(x_valid, y_target)\n",
    "plt.title('Rete 1-10-5-1 \\n Activation func: ELU, Optimizer: SGD, Loss func: MSE')\n",
    "plt.grid(True)\n",
    "plt.show()"
   ]
  },
  {
   "cell_type": "markdown",
   "metadata": {},
   "source": [
    "### Exercise 11.1\n",
    "\n",
    "In order to make practice with NN, explore how does the previous linear regression depend on the number of epochs, $N_{\\mathrm{epochs}}$, the number of data points $N_{\\mathrm{train}}$ and on the noise $\\sigma$. Try to improve the previous result operating on these parameters."
   ]
  },
  {
   "cell_type": "markdown",
   "metadata": {},
   "source": [
    "### Exercise 11.2\n",
    "\n",
    "Try to extend the model to obtain a reasonable fit of the following polynomial of order 3:\n",
    "\n",
    "$$\n",
    "f(x)=4-3x-2x^2+3x^3\n",
    "$$\n",
    "for $x \\in [-1,1]$.\n",
    "\n",
    "In order to make practice with NN, explore reasonable different choices for:\n",
    "\n",
    "- the number of layers\n",
    "- the number of neurons in each layer\n",
    "- the activation function\n",
    "- the optimizer\n",
    "- the loss function\n",
    "  \n",
    "Make graphs comparing fits for different NNs.\n",
    "Check your NN models by seeing how well your fits predict newly generated test data (including on data outside the range you fit. How well do your NN do on points in the range of $x$ where you trained the model? How about points outside the original training data set? \n",
    "Summarize what you have learned about the relationship between model complexity (number of parameters), goodness of fit on training data, and the ability to predict well."
   ]
  },
  {
   "cell_type": "markdown",
   "metadata": {},
   "source": [
    "### Exercise 11.3\n",
    "  \n",
    "Try to extend the model to fit a simple trigonometric 2D function such as $f(x,y) = \\sin(x^2+y^2)$ in the range $x \\in [-3/2,3/2]$ and $y \\in [-3/2,3/2]$."
   ]
  },
  {
   "cell_type": "markdown",
   "metadata": {},
   "source": [
    "Ideas to meditate on these exercises and judge your results can be found <a href=https://xkcd.com/2048/>here</a>"
   ]
  },
  {
   "cell_type": "markdown",
   "metadata": {},
   "source": [
    "### <span style=\"color:green\">Supplementary material: Keras model.fit available callbacks</span>"
   ]
  },
  {
   "cell_type": "markdown",
   "metadata": {},
   "source": [
    "The .fit method can also get <a href=https://keras.io/callbacks/>callback</a> functions which can be used to customize the fitting procedure with special actions.\n",
    "\n",
    "Keras provides some predefined callbacks to feed in, among them for example:\n",
    "- **TerminateOnNaN()**: that terminates training when a NaN loss is encountered\n",
    "- **ModelCheckpoint(filepath)**: that save the model after every epoch\n",
    "- **EarlyStopping()**: which stop training when a monitored quantity has stopped improving\n",
    "\n",
    "You can select one or more callback and pass them as a list to the callback argument of the fit method."
   ]
  },
  {
   "cell_type": "markdown",
   "metadata": {},
   "source": [
    "Now we are going to construct a callback object to represent how estimated parameters are converging during the training procedure"
   ]
  },
  {
   "cell_type": "code",
   "execution_count": null,
   "metadata": {},
   "outputs": [],
   "source": [
    "from IPython.display import clear_output\n",
    "\n",
    "class PlotCurrentEstimate(tf.keras.callbacks.Callback):\n",
    "    def __init__(self, x_valid, y_valid):\n",
    "        \"\"\"Keras Callback which plot current model estimate against reference target\"\"\"\n",
    "        \n",
    "        # convert numpy arrays into lists for plotting purposes\n",
    "        self.x_valid = list(x_valid[:])\n",
    "        self.y_valid = list(y_valid[:])\n",
    "        self.iter=0\n",
    "\n",
    "    def on_epoch_end(self, epoch, logs={}):\n",
    "        \n",
    "        temp = self.model.predict(self.x_valid, batch_size=None, verbose=False, steps=None)\n",
    "        self.y_curr = list(temp[:]) # convert numpy array into list\n",
    "        \n",
    "        self.iter+=1\n",
    "        if self.iter%10 == 0:\n",
    "            clear_output(wait=True)            \n",
    "            self.eplot = plt.subplot(1,1,1)\n",
    "            self.eplot.clear()     \n",
    "            self.eplot.scatter(self.x_valid, self.y_curr, color=\"blue\", s=4, marker=\"o\", label=\"estimate\")\n",
    "            self.eplot.scatter(self.x_valid, self.y_valid, color=\"red\", s=4, marker=\"x\", label=\"valid\")\n",
    "            self.eplot.legend()\n",
    "\n",
    "            plt.show()"
   ]
  },
  {
   "cell_type": "markdown",
   "metadata": {},
   "source": [
    "We will use also an EarlyStopping callback on the val_loss quantity. This will stop the training process as soon as the val_loss quantity does not improve anymore after an amount of epochs, preventing a long time of wated computation to take over without useful results.\n",
    "\n",
    "<code>keras.callbacks.EarlyStopping(monitor='val_loss', min_delta=0, patience=0, verbose=0, mode='auto', baseline=None, restore_best_weights=False)</code>\n",
    "\n",
    "Arguments:\n",
    "\n",
    "- <code>monitor</code>: quantity to be monitored. \n",
    "- <code>min_delta:</code> minimum change in the monitored quantity to qualify as an improvement, i.e. an absolute change of less than min_delta, will count as no improvement. \n",
    "- <code>patience:</code> number of epochs with no improvement after which training will be stopped. \n",
    "- <code>verbose:</code> verbosity mode. \n",
    "- <code>mode:</code> one of {auto, min, max}. In min mode, training will stop when the quantity monitored has stopped decreasing; in max mode it will stop when the quantity monitored has stopped increasing; in auto mode, the direction is automatically inferred from the name of the monitored quantity. \n",
    "- <code>baseline:</code> Baseline value for the monitored quantity to reach. Training will stop if the model doesn't show improvement over the baseline. \n",
    "- <code>restore_best_weights:</code> whether to restore model weights from the epoch with the best value of the monitored quantity. If False, the model weights obtained at the last step of training are used."
   ]
  },
  {
   "cell_type": "code",
   "execution_count": null,
   "metadata": {},
   "outputs": [],
   "source": [
    "plot_estimate = PlotCurrentEstimate(x_valid, y_valid)\n",
    "\n",
    "earlystop = tf.keras.callbacks.EarlyStopping(monitor='val_loss',\n",
    "                  min_delta=0, patience=100, mode='auto')\n",
    "\n",
    "model.fit(x_valid, y_valid, batch_size=32, epochs=150,\n",
    "          validation_data=(x_valid, y_valid),\n",
    "          callbacks=[ plot_estimate, earlystop]\n",
    "          )\n",
    "\n",
    "model.get_weights()"
   ]
  }
 ],
 "metadata": {
  "kernelspec": {
   "display_name": "Python 3",
   "language": "python",
   "name": "python3"
  },
  "language_info": {
   "codemirror_mode": {
    "name": "ipython",
    "version": 3
   },
   "file_extension": ".py",
   "mimetype": "text/x-python",
   "name": "python",
   "nbconvert_exporter": "python",
   "pygments_lexer": "ipython3",
   "version": "3.8.3"
  }
 },
 "nbformat": 4,
 "nbformat_minor": 2
}
